{
 "cells": [
  {
   "cell_type": "markdown",
   "metadata": {},
   "source": [
    "# Data analysis\n",
    "This notebook should NOT modify the given data."
   ]
  },
  {
   "cell_type": "code",
   "execution_count": null,
   "metadata": {},
   "outputs": [],
   "source": [
    "import pandas as pd\n",
    "import numpy as np\n",
    "import matplotlib.pyplot as plt\n",
    "\n",
    "import altair as alt\n",
    "import json\n",
    "\n",
    "import src.visualize as visualize\n",
    "import src.analysis as analysis\n",
    "\n",
    "OUTPUT_DIR = 'output/'\n",
    "JSON_DIR = 'json/'\n",
    "DATA_DIR = 'data/'\n",
    "HTML_DIR = 'html/'\n",
    "\n",
    "# for the notebook only (not for JupyterLab) run this command once per session\n",
    "alt.renderers.enable('notebook')\n",
    "alt.data_transformers.enable('default', max_rows=None)"
   ]
  },
  {
   "cell_type": "code",
   "execution_count": null,
   "metadata": {},
   "outputs": [],
   "source": [
    "df = pd.read_csv(DATA_DIR + 'final.csv')\n",
    "geoData = df[['address', 'lat', 'lng']].dropna()\n",
    "geoData"
   ]
  },
  {
   "cell_type": "code",
   "execution_count": null,
   "metadata": {},
   "outputs": [],
   "source": [
    "# China map\n",
    "with open(JSON_DIR+'china.geo.json', encoding=\"utf-8\") as json_file:  \n",
    "    chinaMap = json.load(json_file)\n",
    "data_china_geo = alt.Data(values=chinaMap['features'])\n",
    "china_map = visualize.draw_map(data_china_geo)\n",
    "vis = visualize.draw_points(geoData, china_map)\n",
    "vis\n",
    "# vis.save(OUTPUT_DIR + HTML_DIR + 'china.html')"
   ]
  },
  {
   "cell_type": "code",
   "execution_count": null,
   "metadata": {},
   "outputs": [],
   "source": [
    "# More detailed guangdong map\n",
    "with open(JSON_DIR+'guangdong.json', encoding=\"utf-8\") as json_file:  \n",
    "    guangDong = json.load(json_file)\n",
    "guangDongData = analysis.extract_map_from_geojson(geoData, guangDong)"
   ]
  },
  {
   "cell_type": "code",
   "execution_count": null,
   "metadata": {
    "scrolled": true
   },
   "outputs": [],
   "source": [
    "# Template for extracting and visualizing city data\n",
    "# All cities: '清远市', '韶关市', '湛江市', '梅州市', '河源市', '肇庆市', '惠州市', '茂名市', '江门市', '阳江市', '云浮市', '广州市', '汕尾市', '揭阳市', '珠海市', '佛山市', '潮州市', '汕头市', '东莞市', '中山市', '深圳市'\n",
    "specificLocations = ['深圳市']\n",
    "citiesData, cities = analysis.get_cities_data(geoData, specificLocations, guangDong)\n",
    "data_geo = alt.Data(values=cities['features'])\n",
    "citiesMap = visualize.draw_map(data_geo)\n",
    "vis = visualize.draw_points(citiesData, citiesMap)\n",
    "vis"
   ]
  },
  {
   "cell_type": "code",
   "execution_count": null,
   "metadata": {},
   "outputs": [],
   "source": [
    "data_geo = alt.Data(values=guangDong['features'])\n",
    "guangdong_map = visualize.draw_map(data_geo)\n",
    "vis = visualize.draw_points(guangDongData, guangdong_map)\n",
    "vis.save(OUTPUT_DIR + HTML_DIR + 'guangdong.html')\n",
    "vis"
   ]
  },
  {
   "cell_type": "code",
   "execution_count": null,
   "metadata": {},
   "outputs": [],
   "source": [
    "geoData = guangDongData # Using guang dong data only\n",
    "# Augment data\n",
    "# fixed_cluster = [['Fixed cluster 1', 23.186364, 113.418813], ['Fixed cluster 2', 22.569243, 114.108307]]\n",
    "# fixedDf = pd.DataFrame(fixed_cluster, columns=['address', 'lat', 'lng'])\n",
    "# geoData = geoData.append([fixedDf]*2000,ignore_index=True)\n",
    "\n",
    "coords = geoData[['lat', 'lng']].values\n",
    "coords"
   ]
  },
  {
   "cell_type": "markdown",
   "metadata": {},
   "source": [
    "## Heatmap"
   ]
  },
  {
   "cell_type": "code",
   "execution_count": null,
   "metadata": {},
   "outputs": [],
   "source": [
    "# For website\n",
    "analysis.outputHeatmap(guangDongData, filename='heatmap.csv')\n",
    "\n",
    "# Create heatmap using python (Use Chrome, Edge won't work here)\n",
    "hmap = visualize.draw_heatmap(geoData)\n",
    "hmap.save(OUTPUT_DIR + HTML_DIR + 'heatmap.html')\n",
    "# hmap\n",
    "# Please open 'heatmap.html' to view the heatmap because the heatmap cannot be shown here if the dataset is too large"
   ]
  },
  {
   "cell_type": "markdown",
   "metadata": {},
   "source": [
    "## DBSCAN"
   ]
  },
  {
   "cell_type": "code",
   "execution_count": null,
   "metadata": {},
   "outputs": [],
   "source": [
    "# labels, cluster_pos = analysis.dbscan(coords, km=50, num_of_pts=100, plot=True)\n",
    "# geoData['cluster_id'] = labels\n",
    "# clusterSize = geoData.groupby('cluster_id').size().reset_index(name='count')"
   ]
  },
  {
   "cell_type": "code",
   "execution_count": null,
   "metadata": {},
   "outputs": [],
   "source": [
    "# centersDf = pd.DataFrame(cluster_pos, columns=['lat', 'lng'])\n",
    "# centersDf = centersDf.reset_index().rename(columns={'index': 'cluster_id'})\n",
    "\n",
    "# clusterBarChart = alt.Chart(clusterSize).mark_bar().encode(\n",
    "#     x='cluster:Q',\n",
    "#     y='count:Q',\n",
    "#     color=alt.Color('cluster:N', scale=alt.Scale(scheme='category20')),\n",
    "# )\n",
    "\n",
    "# vis = visualize.draw_cluster(geoData, centersDf, guangdong_map)\n",
    "# vis & clusterBarChart"
   ]
  },
  {
   "cell_type": "markdown",
   "metadata": {},
   "source": [
    "## K-means clustering"
   ]
  },
  {
   "cell_type": "code",
   "execution_count": null,
   "metadata": {},
   "outputs": [],
   "source": [
    "n_clusters = 17\n",
    "fixed_cluster = np.array([[23.186364, 113.418813], [22.569243, 114.108307]])\n",
    "labels, cluster_pos = analysis.k_means(coords, n_clusters=n_clusters, max_iter=1000, n_init=50, fixCluster=fixed_cluster)\n",
    "\n",
    "geoData['cluster_id'] = labels\n",
    "clusterSize = geoData.groupby('cluster_id').size().reset_index(name='count')"
   ]
  },
  {
   "cell_type": "code",
   "execution_count": null,
   "metadata": {},
   "outputs": [],
   "source": [
    "centersDf = pd.DataFrame(cluster_pos, columns=['lat', 'lng'])\n",
    "centersDf = centersDf.reset_index().rename(columns={'index': 'cluster_id'})\n",
    "# fixed_cluster = [[23.186364, 113.418813], [22.569243, 114.108307]]\n",
    "# fixedDf = pd.DataFrame(fixed_cluster, columns=['lat', 'lng'])\n",
    "\n",
    "clusterBarChart = alt.Chart(clusterSize).mark_bar().encode(\n",
    "    x='cluster:Q',\n",
    "    y='count:Q',\n",
    "    color=alt.Color('cluster:N', scale=alt.Scale(scheme='category20')),\n",
    ")\n",
    "\n",
    "# vis = draw_cluster(geoData, centersDf.append(fixedDf, ignore_index=True).reset_index().rename(columns={'index': 'cluster_id'}), guangdong_map)\n",
    "vis = visualize.draw_cluster(geoData, centersDf, guangdong_map)\n",
    "vis = vis & clusterBarChart\n",
    "vis.save(OUTPUT_DIR + HTML_DIR + 'kmean.html')\n",
    "\n",
    "# Save\n",
    "analysis.exportResult(geoData, cluster_pos, resultFileName='kmeans.csv', clusterFileName='cluster.csv')\n",
    "\n",
    "# Plot\n",
    "vis"
   ]
  },
  {
   "cell_type": "code",
   "execution_count": null,
   "metadata": {},
   "outputs": [],
   "source": [
    "# Show specific location\n",
    "specificLocations = ['深圳市']\n",
    "specificCluster = [1, 5, 11]\n",
    "citiesData, cities = analysis.get_cities_data(geoData, specificLocations, guangDong)\n",
    "data_geo = alt.Data(values=cities['features'])\n",
    "citiesMap = visualize.draw_map(data_geo)\n",
    "vis = visualize.draw_cluster(citiesData, centersDf[centersDf['cluster_id'].isin(specificCluster)], citiesMap)\n",
    "vis"
   ]
  },
  {
   "cell_type": "markdown",
   "metadata": {},
   "source": [
    "## Phase 2"
   ]
  },
  {
   "cell_type": "code",
   "execution_count": null,
   "metadata": {},
   "outputs": [],
   "source": [
    "# method can be k_means, dbscan, and aggClustering\n",
    "labels, cluster_pos = analysis.subClustering(geoData, cluster_pos, method=analysis.k_means, avg_size=1000)\n",
    "geoData['cluster_id'] = labels\n",
    "# geoData['cluster_id']\n",
    "\n",
    "clusterSize = geoData[geoData['cluster_id']>=0].groupby('cluster_id').size().reset_index(name='count')\n",
    "clusterBarChart = alt.Chart(clusterSize).mark_bar().encode(\n",
    "    x='cluster:Q',\n",
    "    y='count:Q',\n",
    "    color=alt.Color('cluster:N', scale=alt.Scale(scheme='category20')),\n",
    ")\n",
    "\n",
    "centersDf = pd.DataFrame(cluster_pos, columns=['lat', 'lng'])\n",
    "centersDf = centersDf.reset_index().rename(columns={'index': 'cluster_id'})\n",
    "vis = visualize.draw_cluster(geoData, centersDf, guangdong_map)\n",
    "vis = vis & clusterBarChart\n",
    "vis.save(OUTPUT_DIR + HTML_DIR + 'kmean-phase2.html')\n",
    "\n",
    "# Save\n",
    "analysis.exportResult(geoData, cluster_pos, resultFileName='kmeans2.csv', clusterFileName='cluster2.csv')\n",
    "\n",
    "# Plot\n",
    "vis"
   ]
  },
  {
   "cell_type": "markdown",
   "metadata": {},
   "source": [
    "## Hierarchical clustering"
   ]
  },
  {
   "cell_type": "code",
   "execution_count": null,
   "metadata": {},
   "outputs": [],
   "source": [
    "# int x =  (int) ((MAP_WIDTH/360.0) * (180 + lon))\n",
    "# int y =  (int) ((MAP_HEIGHT/180.0) * (90 - lat))\n",
    "\n",
    "# coords = np.array(list(map(lambda pt: [(MAP_HEIGHT/180.0) * (90 - pt[0]), (MAP_WIDTH/360.0) * (180 + pt[1])], coords)))"
   ]
  },
  {
   "cell_type": "code",
   "execution_count": null,
   "metadata": {},
   "outputs": [],
   "source": [
    "labels, cluster_pos = analysis.aggClustering(coords, n_clusters=15)\n",
    "geoData['cluster_id'] = labels\n",
    "\n",
    "centersDf = pd.DataFrame(cluster_pos, columns=['lat', 'lng'])\n",
    "centersDf = centersDf.reset_index().rename(columns={'index': 'cluster_id'})\n",
    "vis = visualize.draw_cluster(geoData, centersDf, guangdong_map)\n",
    "\n",
    "# Save\n",
    "analysis.exportResult(geoData, cluster_pos, resultFileName='hierarchical.csv', clusterFileName='hierarchical_cluster2.csv')\n",
    "\n",
    "# Plot\n",
    "vis"
   ]
  },
  {
   "cell_type": "code",
   "execution_count": null,
   "metadata": {},
   "outputs": [],
   "source": []
  }
 ],
 "metadata": {
  "kernelspec": {
   "display_name": "Python 3",
   "language": "python",
   "name": "python3"
  },
  "language_info": {
   "codemirror_mode": {
    "name": "ipython",
    "version": 3
   },
   "file_extension": ".py",
   "mimetype": "text/x-python",
   "name": "python",
   "nbconvert_exporter": "python",
   "pygments_lexer": "ipython3",
   "version": "3.6.5"
  }
 },
 "nbformat": 4,
 "nbformat_minor": 2
}
